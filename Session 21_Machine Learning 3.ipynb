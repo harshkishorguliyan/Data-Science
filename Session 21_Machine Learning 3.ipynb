{
 "cells": [
  {
   "cell_type": "code",
   "execution_count": null,
   "metadata": {},
   "outputs": [],
   "source": [
    "'''\n",
    "Problem Statement:\n",
    "\n",
    "I decided to treat this as a classification problem by creating a new binary variable affair (did the woman have at least one\n",
    "affair?) and trying to predict the classification for each woman.\n",
    "Dataset\n",
    "The dataset I chose is the affairs dataset that comes with Statsmodels. It was derived from a survey of women in 1974 by\n",
    "Redbook magazine, in which married women were asked about their participation in extramarital affairs. More information about\n",
    "the study is available in a 1978 paper from the Journal of Political Economy.\n",
    "Description of Variables\n",
    "The dataset contains 6366 observations of 9 variables:\n",
    "    (1) rate_marriage: woman's rating of her marriage (1 = very poor, 5 = very good)\n",
    "    (2) age: woman's age\n",
    "    (3) yrs_married: number of years married\n",
    "    (4) children: number of children\n",
    "    (5) religious: woman's rating of how religious she is (1 = not religious, 4 = strongly religious)\n",
    "    (6) educ: level of education (9 = grade school, 12 = high school, 14 = some college, 16 = college graduate, 17 = some \n",
    "        graduate school, 20 = advanced degree)\n",
    "    (7) occupation: woman's occupation (1 = student, 2 = farming/semi-skilled/unskilled, 3 = \"white collar\", 4 = teacher/nurse/\n",
    "        writer/technician/skilled, 5 = managerial/business, 6 = professional with advanced degree)\n",
    "    (8) occupation_husb: husband's occupation (same coding as above)\n",
    "    (9) affairs: time spent in extra-marital affairs\n",
    "Code to loading data and modules\n",
    "'''"
   ]
  },
  {
   "cell_type": "code",
   "execution_count": 4,
   "metadata": {},
   "outputs": [
    {
     "name": "stdout",
     "output_type": "stream",
     "text": [
      "1. Details abouts data: \n",
      "\n",
      "Name:  Affairs dataset \n",
      "\n",
      "Descrption:  Extramarital affair data used to explain the allocation\n",
      "of an individual's time among work, time spent with a spouse, and time\n",
      "spent with a paramour. The data is used as an example of regression\n",
      "with censored data. \n",
      "\n",
      "Note- ::\n",
      "\n",
      "    Number of observations: 6366\n",
      "    Number of variables: 9\n",
      "    Variable name definitions:\n",
      "\n",
      "        rate_marriage   : How rate marriage, 1 = very poor, 2 = poor, 3 = fair,\n",
      "                        4 = good, 5 = very good\n",
      "        age             : Age\n",
      "        yrs_married     : No. years married. Interval approximations. See\n",
      "                        original paper for detailed explanation.\n",
      "        children        : No. children\n",
      "        religious       : How relgious, 1 = not, 2 = mildly, 3 = fairly,\n",
      "                        4 = strongly\n",
      "        educ            : Level of education, 9 = grade school, 12 = high\n",
      "                        school, 14 = some college, 16 = college graduate,\n",
      "                        17 = some graduate school, 20 = advanced degree\n",
      "        occupation      : 1 = student, 2 = farming, agriculture; semi-skilled,\n",
      "                        or unskilled worker; 3 = white-colloar; 4 = teacher\n",
      "                        counselor social worker, nurse; artist, writers;\n",
      "                        technician, skilled worker, 5 = managerial,\n",
      "                        administrative, business, 6 = professional with\n",
      "                        advanced degree\n",
      "        occupation_husb : Husband's occupation. Same as occupation.\n",
      "        affairs         : measure of time spent in extramarital affairs\n",
      "\n",
      "    See the original paper for more details.\n",
      " \n",
      "\n",
      "\n",
      "Fair, Ray. 1978. \"A Theory of Extramarital Affairs,\" `Journal of Political\n",
      "Economy`, February, 45-61.\n",
      "\n",
      "The data is available at http://fairmodel.econ.yale.edu/rayfair/pdf/2011b.htm\n",
      " \n",
      "\n"
     ]
    }
   ],
   "source": [
    "# Import python modules\n",
    "%matplotlib inline \n",
    "# for numerical and array operation\n",
    "import numpy as np\n",
    "# for exploring the data\n",
    "import pandas as pd\n",
    "# for Data visualisation\n",
    "import matplotlib.pyplot as plt\n",
    "# for preparing the data for logistic regression using dmatrices from patsy\n",
    "from patsy import dmatrices as dmatrices\n",
    "# for loading a dataset from statsmodels and Logistics regression data fitting\n",
    "import statsmodels.api as sm\n",
    "\n",
    "# Import sklearn and scipy.stats for statistical analysis\n",
    "import scipy.stats as stats\n",
    "# building a logistic regression model and model evaluation\n",
    "from sklearn.linear_model import LogisticRegression\n",
    "from sklearn.model_selection import train_test_split\n",
    "from sklearn import metrics\n",
    "from sklearn.model_selection import cross_val_score\n",
    "from sklearn.metrics import classification_report\n",
    "\n",
    "# 1. Details about data\n",
    "# Affair data is available at  statsmodel.datasets\n",
    "print(\"1. Details abouts data: \\n\")\n",
    "print(\"Name: \",sm.datasets.fair.TITLE,\"\\n\")\n",
    "print(\"Descrption: \",sm.datasets.fair.DESCRLONG,\"\\n\")\n",
    "print(\"Note-\",sm.datasets.fair.NOTE,\"\\n\")\n",
    "print(sm.datasets.fair.SOURCE,\"\\n\")"
   ]
  },
  {
   "cell_type": "code",
   "execution_count": 7,
   "metadata": {},
   "outputs": [
    {
     "name": "stdout",
     "output_type": "stream",
     "text": [
      "Sample observation from data\n"
     ]
    },
    {
     "data": {
      "text/html": [
       "<div>\n",
       "<style scoped>\n",
       "    .dataframe tbody tr th:only-of-type {\n",
       "        vertical-align: middle;\n",
       "    }\n",
       "\n",
       "    .dataframe tbody tr th {\n",
       "        vertical-align: top;\n",
       "    }\n",
       "\n",
       "    .dataframe thead th {\n",
       "        text-align: right;\n",
       "    }\n",
       "</style>\n",
       "<table border=\"1\" class=\"dataframe\">\n",
       "  <thead>\n",
       "    <tr style=\"text-align: right;\">\n",
       "      <th></th>\n",
       "      <th>rate_marriage</th>\n",
       "      <th>age</th>\n",
       "      <th>yrs_married</th>\n",
       "      <th>children</th>\n",
       "      <th>religious</th>\n",
       "      <th>educ</th>\n",
       "      <th>occupation</th>\n",
       "      <th>occupation_husb</th>\n",
       "      <th>affairs</th>\n",
       "    </tr>\n",
       "  </thead>\n",
       "  <tbody>\n",
       "    <tr>\n",
       "      <th>0</th>\n",
       "      <td>3.0</td>\n",
       "      <td>32.0</td>\n",
       "      <td>9.0</td>\n",
       "      <td>3.0</td>\n",
       "      <td>3.0</td>\n",
       "      <td>17.0</td>\n",
       "      <td>2.0</td>\n",
       "      <td>5.0</td>\n",
       "      <td>0.111111</td>\n",
       "    </tr>\n",
       "    <tr>\n",
       "      <th>1</th>\n",
       "      <td>3.0</td>\n",
       "      <td>27.0</td>\n",
       "      <td>13.0</td>\n",
       "      <td>3.0</td>\n",
       "      <td>1.0</td>\n",
       "      <td>14.0</td>\n",
       "      <td>3.0</td>\n",
       "      <td>4.0</td>\n",
       "      <td>3.230769</td>\n",
       "    </tr>\n",
       "  </tbody>\n",
       "</table>\n",
       "</div>"
      ],
      "text/plain": [
       "   rate_marriage   age  yrs_married  children  religious  educ  occupation  \\\n",
       "0            3.0  32.0          9.0       3.0        3.0  17.0         2.0   \n",
       "1            3.0  27.0         13.0       3.0        1.0  14.0         3.0   \n",
       "\n",
       "   occupation_husb   affairs  \n",
       "0              5.0  0.111111  \n",
       "1              4.0  3.230769  "
      ]
     },
     "execution_count": 7,
     "metadata": {},
     "output_type": "execute_result"
    }
   ],
   "source": [
    "# 2. Load the data and convert it into pandas dataframe\n",
    "df_Affairdata = sm.datasets.fair.load_pandas().data\n",
    "print(\"Sample observation from data\")\n",
    "df_Affairdata.head(2)"
   ]
  },
  {
   "cell_type": "code",
   "execution_count": 8,
   "metadata": {},
   "outputs": [
    {
     "name": "stdout",
     "output_type": "stream",
     "text": [
      "Sample of data after 'affair' columns add in dataframe\n"
     ]
    },
    {
     "data": {
      "text/html": [
       "<div>\n",
       "<style scoped>\n",
       "    .dataframe tbody tr th:only-of-type {\n",
       "        vertical-align: middle;\n",
       "    }\n",
       "\n",
       "    .dataframe tbody tr th {\n",
       "        vertical-align: top;\n",
       "    }\n",
       "\n",
       "    .dataframe thead th {\n",
       "        text-align: right;\n",
       "    }\n",
       "</style>\n",
       "<table border=\"1\" class=\"dataframe\">\n",
       "  <thead>\n",
       "    <tr style=\"text-align: right;\">\n",
       "      <th></th>\n",
       "      <th>rate_marriage</th>\n",
       "      <th>age</th>\n",
       "      <th>yrs_married</th>\n",
       "      <th>children</th>\n",
       "      <th>religious</th>\n",
       "      <th>educ</th>\n",
       "      <th>occupation</th>\n",
       "      <th>occupation_husb</th>\n",
       "      <th>affairs</th>\n",
       "      <th>affair</th>\n",
       "    </tr>\n",
       "  </thead>\n",
       "  <tbody>\n",
       "    <tr>\n",
       "      <th>0</th>\n",
       "      <td>3.0</td>\n",
       "      <td>32.0</td>\n",
       "      <td>9.0</td>\n",
       "      <td>3.0</td>\n",
       "      <td>3.0</td>\n",
       "      <td>17.0</td>\n",
       "      <td>2.0</td>\n",
       "      <td>5.0</td>\n",
       "      <td>0.111111</td>\n",
       "      <td>1</td>\n",
       "    </tr>\n",
       "    <tr>\n",
       "      <th>1</th>\n",
       "      <td>3.0</td>\n",
       "      <td>27.0</td>\n",
       "      <td>13.0</td>\n",
       "      <td>3.0</td>\n",
       "      <td>1.0</td>\n",
       "      <td>14.0</td>\n",
       "      <td>3.0</td>\n",
       "      <td>4.0</td>\n",
       "      <td>3.230769</td>\n",
       "      <td>1</td>\n",
       "    </tr>\n",
       "    <tr>\n",
       "      <th>2</th>\n",
       "      <td>4.0</td>\n",
       "      <td>22.0</td>\n",
       "      <td>2.5</td>\n",
       "      <td>0.0</td>\n",
       "      <td>1.0</td>\n",
       "      <td>16.0</td>\n",
       "      <td>3.0</td>\n",
       "      <td>5.0</td>\n",
       "      <td>1.400000</td>\n",
       "      <td>1</td>\n",
       "    </tr>\n",
       "  </tbody>\n",
       "</table>\n",
       "</div>"
      ],
      "text/plain": [
       "   rate_marriage   age  yrs_married  children  religious  educ  occupation  \\\n",
       "0            3.0  32.0          9.0       3.0        3.0  17.0         2.0   \n",
       "1            3.0  27.0         13.0       3.0        1.0  14.0         3.0   \n",
       "2            4.0  22.0          2.5       0.0        1.0  16.0         3.0   \n",
       "\n",
       "   occupation_husb   affairs  affair  \n",
       "0              5.0  0.111111       1  \n",
       "1              4.0  3.230769       1  \n",
       "2              5.0  1.400000       1  "
      ]
     },
     "execution_count": 8,
     "metadata": {},
     "output_type": "execute_result"
    }
   ],
   "source": [
    "'''\n",
    "We have to identify that Womens have extra maritial affairs or not. If it's yes then what is the percenatge ratio of that.\n",
    "Hence add-up a binary variable \"affair\" in DataFrame based upon \"affairs\" columns of dataframe which describe time spent in\n",
    "extramarital affairs by womens. If Womens \"spends any time\" in an affair, this is counted as a yes or 1, otherwise it's zero.\n",
    "'''\n",
    "df_Affairdata['affair']=df_Affairdata['affairs'].map(lambda x:1 if x> 0 else 0)\n",
    "print(\"Sample of data after 'affair' columns add in dataframe\")\n",
    "df_Affairdata.head(3)"
   ]
  },
  {
   "cell_type": "code",
   "execution_count": 9,
   "metadata": {},
   "outputs": [
    {
     "name": "stdout",
     "output_type": "stream",
     "text": [
      "Unique values of affair column\n"
     ]
    },
    {
     "data": {
      "text/plain": [
       "array([1, 0], dtype=int64)"
      ]
     },
     "execution_count": 9,
     "metadata": {},
     "output_type": "execute_result"
    }
   ],
   "source": [
    "# 3. Values of affair column and Hypothesis about data\n",
    "# Values of affair column\n",
    "print(\"Unique values of affair column\")\n",
    "df_Affairdata['affair'].unique()"
   ]
  },
  {
   "cell_type": "code",
   "execution_count": 10,
   "metadata": {},
   "outputs": [
    {
     "name": "stdout",
     "output_type": "stream",
     "text": [
      "The No. of rows in data : 6366\n",
      "The No. of columns in data : 10\n",
      "\n",
      "Columns of Affair data :  ['rate_marriage', 'age', 'yrs_married', 'children', 'religious', 'educ', 'occupation', 'occupation_husb', 'affairs', 'affair']\n"
     ]
    }
   ],
   "source": [
    "# 4. Structure of Data\n",
    "print(\"The No. of rows in data : {0}\\nThe No. of columns in data : {1}\" .format(str(df_Affairdata.shape[0]),str(df_Affairdata.shape[1])))\n",
    "print(\"\\nColumns of Affair data : \", df_Affairdata.columns.tolist())"
   ]
  },
  {
   "cell_type": "code",
   "execution_count": null,
   "metadata": {},
   "outputs": [],
   "source": [
    "# 5. Statistical analysis of Data and it's features\n",
    "# a) Statistics about data based upon affair\n",
    "print(\"Statistics about data based upon affair\")\n",
    "df_Affairdata.groupby('affair').mean()"
   ]
  },
  {
   "cell_type": "code",
   "execution_count": 12,
   "metadata": {},
   "outputs": [
    {
     "name": "stdout",
     "output_type": "stream",
     "text": [
      "Statistics about data based upon marriage rating\n"
     ]
    },
    {
     "data": {
      "text/html": [
       "<div>\n",
       "<style scoped>\n",
       "    .dataframe tbody tr th:only-of-type {\n",
       "        vertical-align: middle;\n",
       "    }\n",
       "\n",
       "    .dataframe tbody tr th {\n",
       "        vertical-align: top;\n",
       "    }\n",
       "\n",
       "    .dataframe thead th {\n",
       "        text-align: right;\n",
       "    }\n",
       "</style>\n",
       "<table border=\"1\" class=\"dataframe\">\n",
       "  <thead>\n",
       "    <tr style=\"text-align: right;\">\n",
       "      <th></th>\n",
       "      <th>age</th>\n",
       "      <th>yrs_married</th>\n",
       "      <th>children</th>\n",
       "      <th>religious</th>\n",
       "      <th>educ</th>\n",
       "      <th>occupation</th>\n",
       "      <th>occupation_husb</th>\n",
       "      <th>affairs</th>\n",
       "      <th>affair</th>\n",
       "    </tr>\n",
       "    <tr>\n",
       "      <th>rate_marriage</th>\n",
       "      <th></th>\n",
       "      <th></th>\n",
       "      <th></th>\n",
       "      <th></th>\n",
       "      <th></th>\n",
       "      <th></th>\n",
       "      <th></th>\n",
       "      <th></th>\n",
       "      <th></th>\n",
       "    </tr>\n",
       "  </thead>\n",
       "  <tbody>\n",
       "    <tr>\n",
       "      <th>1.0</th>\n",
       "      <td>33.823232</td>\n",
       "      <td>13.914141</td>\n",
       "      <td>2.308081</td>\n",
       "      <td>2.343434</td>\n",
       "      <td>13.848485</td>\n",
       "      <td>3.232323</td>\n",
       "      <td>3.838384</td>\n",
       "      <td>1.201671</td>\n",
       "      <td>0.747475</td>\n",
       "    </tr>\n",
       "    <tr>\n",
       "      <th>2.0</th>\n",
       "      <td>30.471264</td>\n",
       "      <td>10.727011</td>\n",
       "      <td>1.735632</td>\n",
       "      <td>2.330460</td>\n",
       "      <td>13.864943</td>\n",
       "      <td>3.327586</td>\n",
       "      <td>3.764368</td>\n",
       "      <td>1.615745</td>\n",
       "      <td>0.635057</td>\n",
       "    </tr>\n",
       "    <tr>\n",
       "      <th>3.0</th>\n",
       "      <td>30.008056</td>\n",
       "      <td>10.239174</td>\n",
       "      <td>1.638469</td>\n",
       "      <td>2.308157</td>\n",
       "      <td>14.001007</td>\n",
       "      <td>3.402820</td>\n",
       "      <td>3.798590</td>\n",
       "      <td>1.371281</td>\n",
       "      <td>0.550856</td>\n",
       "    </tr>\n",
       "    <tr>\n",
       "      <th>4.0</th>\n",
       "      <td>28.856601</td>\n",
       "      <td>8.816905</td>\n",
       "      <td>1.369536</td>\n",
       "      <td>2.400981</td>\n",
       "      <td>14.144514</td>\n",
       "      <td>3.420161</td>\n",
       "      <td>3.835861</td>\n",
       "      <td>0.674837</td>\n",
       "      <td>0.322926</td>\n",
       "    </tr>\n",
       "    <tr>\n",
       "      <th>5.0</th>\n",
       "      <td>28.574702</td>\n",
       "      <td>8.311662</td>\n",
       "      <td>1.252794</td>\n",
       "      <td>2.506334</td>\n",
       "      <td>14.399776</td>\n",
       "      <td>3.454918</td>\n",
       "      <td>3.892697</td>\n",
       "      <td>0.348174</td>\n",
       "      <td>0.181446</td>\n",
       "    </tr>\n",
       "  </tbody>\n",
       "</table>\n",
       "</div>"
      ],
      "text/plain": [
       "                     age  yrs_married  children  religious       educ  \\\n",
       "rate_marriage                                                           \n",
       "1.0            33.823232    13.914141  2.308081   2.343434  13.848485   \n",
       "2.0            30.471264    10.727011  1.735632   2.330460  13.864943   \n",
       "3.0            30.008056    10.239174  1.638469   2.308157  14.001007   \n",
       "4.0            28.856601     8.816905  1.369536   2.400981  14.144514   \n",
       "5.0            28.574702     8.311662  1.252794   2.506334  14.399776   \n",
       "\n",
       "               occupation  occupation_husb   affairs    affair  \n",
       "rate_marriage                                                   \n",
       "1.0              3.232323         3.838384  1.201671  0.747475  \n",
       "2.0              3.327586         3.764368  1.615745  0.635057  \n",
       "3.0              3.402820         3.798590  1.371281  0.550856  \n",
       "4.0              3.420161         3.835861  0.674837  0.322926  \n",
       "5.0              3.454918         3.892697  0.348174  0.181446  "
      ]
     },
     "execution_count": 12,
     "metadata": {},
     "output_type": "execute_result"
    }
   ],
   "source": [
    "# b) Statistics about data based upon marriage rating\n",
    "print(\"Statistics about data based upon marriage rating\")\n",
    "df_Affairdata.groupby('rate_marriage').mean()"
   ]
  },
  {
   "cell_type": "code",
   "execution_count": 13,
   "metadata": {},
   "outputs": [
    {
     "name": "stdout",
     "output_type": "stream",
     "text": [
      " Statistics about data based upon years of marriage\n"
     ]
    },
    {
     "data": {
      "text/html": [
       "<div>\n",
       "<style scoped>\n",
       "    .dataframe tbody tr th:only-of-type {\n",
       "        vertical-align: middle;\n",
       "    }\n",
       "\n",
       "    .dataframe tbody tr th {\n",
       "        vertical-align: top;\n",
       "    }\n",
       "\n",
       "    .dataframe thead th {\n",
       "        text-align: right;\n",
       "    }\n",
       "</style>\n",
       "<table border=\"1\" class=\"dataframe\">\n",
       "  <thead>\n",
       "    <tr style=\"text-align: right;\">\n",
       "      <th></th>\n",
       "      <th>rate_marriage</th>\n",
       "      <th>age</th>\n",
       "      <th>children</th>\n",
       "      <th>religious</th>\n",
       "      <th>educ</th>\n",
       "      <th>occupation</th>\n",
       "      <th>occupation_husb</th>\n",
       "      <th>affairs</th>\n",
       "      <th>affair</th>\n",
       "    </tr>\n",
       "    <tr>\n",
       "      <th>yrs_married</th>\n",
       "      <th></th>\n",
       "      <th></th>\n",
       "      <th></th>\n",
       "      <th></th>\n",
       "      <th></th>\n",
       "      <th></th>\n",
       "      <th></th>\n",
       "      <th></th>\n",
       "      <th></th>\n",
       "    </tr>\n",
       "  </thead>\n",
       "  <tbody>\n",
       "    <tr>\n",
       "      <th>0.5</th>\n",
       "      <td>4.524324</td>\n",
       "      <td>22.156757</td>\n",
       "      <td>0.048649</td>\n",
       "      <td>2.454054</td>\n",
       "      <td>14.237838</td>\n",
       "      <td>3.302703</td>\n",
       "      <td>3.502703</td>\n",
       "      <td>0.546486</td>\n",
       "      <td>0.043243</td>\n",
       "    </tr>\n",
       "    <tr>\n",
       "      <th>2.5</th>\n",
       "      <td>4.239921</td>\n",
       "      <td>23.640364</td>\n",
       "      <td>0.297198</td>\n",
       "      <td>2.312684</td>\n",
       "      <td>14.384956</td>\n",
       "      <td>3.383481</td>\n",
       "      <td>3.614061</td>\n",
       "      <td>0.984877</td>\n",
       "      <td>0.215831</td>\n",
       "    </tr>\n",
       "    <tr>\n",
       "      <th>6.0</th>\n",
       "      <td>4.066608</td>\n",
       "      <td>26.439089</td>\n",
       "      <td>1.036810</td>\n",
       "      <td>2.347064</td>\n",
       "      <td>14.454864</td>\n",
       "      <td>3.469763</td>\n",
       "      <td>3.881683</td>\n",
       "      <td>0.741184</td>\n",
       "      <td>0.339176</td>\n",
       "    </tr>\n",
       "    <tr>\n",
       "      <th>9.0</th>\n",
       "      <td>3.985050</td>\n",
       "      <td>28.985050</td>\n",
       "      <td>1.649502</td>\n",
       "      <td>2.368771</td>\n",
       "      <td>14.367110</td>\n",
       "      <td>3.393688</td>\n",
       "      <td>4.061462</td>\n",
       "      <td>0.737495</td>\n",
       "      <td>0.421927</td>\n",
       "    </tr>\n",
       "    <tr>\n",
       "      <th>13.0</th>\n",
       "      <td>4.038983</td>\n",
       "      <td>32.610169</td>\n",
       "      <td>1.916102</td>\n",
       "      <td>2.457627</td>\n",
       "      <td>14.218644</td>\n",
       "      <td>3.474576</td>\n",
       "      <td>4.100000</td>\n",
       "      <td>0.508149</td>\n",
       "      <td>0.411864</td>\n",
       "    </tr>\n",
       "    <tr>\n",
       "      <th>16.5</th>\n",
       "      <td>3.952323</td>\n",
       "      <td>35.135697</td>\n",
       "      <td>2.814181</td>\n",
       "      <td>2.601467</td>\n",
       "      <td>13.710269</td>\n",
       "      <td>3.415648</td>\n",
       "      <td>4.014670</td>\n",
       "      <td>0.484304</td>\n",
       "      <td>0.451100</td>\n",
       "    </tr>\n",
       "    <tr>\n",
       "      <th>23.0</th>\n",
       "      <td>3.956843</td>\n",
       "      <td>41.013564</td>\n",
       "      <td>3.281751</td>\n",
       "      <td>2.652281</td>\n",
       "      <td>13.794081</td>\n",
       "      <td>3.511714</td>\n",
       "      <td>4.051788</td>\n",
       "      <td>0.369099</td>\n",
       "      <td>0.425401</td>\n",
       "    </tr>\n",
       "  </tbody>\n",
       "</table>\n",
       "</div>"
      ],
      "text/plain": [
       "             rate_marriage        age  children  religious       educ  \\\n",
       "yrs_married                                                             \n",
       "0.5               4.524324  22.156757  0.048649   2.454054  14.237838   \n",
       "2.5               4.239921  23.640364  0.297198   2.312684  14.384956   \n",
       "6.0               4.066608  26.439089  1.036810   2.347064  14.454864   \n",
       "9.0               3.985050  28.985050  1.649502   2.368771  14.367110   \n",
       "13.0              4.038983  32.610169  1.916102   2.457627  14.218644   \n",
       "16.5              3.952323  35.135697  2.814181   2.601467  13.710269   \n",
       "23.0              3.956843  41.013564  3.281751   2.652281  13.794081   \n",
       "\n",
       "             occupation  occupation_husb   affairs    affair  \n",
       "yrs_married                                                   \n",
       "0.5            3.302703         3.502703  0.546486  0.043243  \n",
       "2.5            3.383481         3.614061  0.984877  0.215831  \n",
       "6.0            3.469763         3.881683  0.741184  0.339176  \n",
       "9.0            3.393688         4.061462  0.737495  0.421927  \n",
       "13.0           3.474576         4.100000  0.508149  0.411864  \n",
       "16.5           3.415648         4.014670  0.484304  0.451100  \n",
       "23.0           3.511714         4.051788  0.369099  0.425401  "
      ]
     },
     "execution_count": 13,
     "metadata": {},
     "output_type": "execute_result"
    }
   ],
   "source": [
    "# c)  Statistics about data based upon years of marriage\n",
    "print(\" Statistics about data based upon years of marriage\")\n",
    "df_Affairdata.groupby('yrs_married').mean()"
   ]
  },
  {
   "cell_type": "code",
   "execution_count": 14,
   "metadata": {},
   "outputs": [
    {
     "name": "stdout",
     "output_type": "stream",
     "text": [
      "Statistics about data based upon religious values\n"
     ]
    },
    {
     "data": {
      "text/html": [
       "<div>\n",
       "<style scoped>\n",
       "    .dataframe tbody tr th:only-of-type {\n",
       "        vertical-align: middle;\n",
       "    }\n",
       "\n",
       "    .dataframe tbody tr th {\n",
       "        vertical-align: top;\n",
       "    }\n",
       "\n",
       "    .dataframe thead th {\n",
       "        text-align: right;\n",
       "    }\n",
       "</style>\n",
       "<table border=\"1\" class=\"dataframe\">\n",
       "  <thead>\n",
       "    <tr style=\"text-align: right;\">\n",
       "      <th></th>\n",
       "      <th>rate_marriage</th>\n",
       "      <th>age</th>\n",
       "      <th>yrs_married</th>\n",
       "      <th>children</th>\n",
       "      <th>educ</th>\n",
       "      <th>occupation</th>\n",
       "      <th>occupation_husb</th>\n",
       "      <th>affairs</th>\n",
       "      <th>affair</th>\n",
       "    </tr>\n",
       "    <tr>\n",
       "      <th>religious</th>\n",
       "      <th></th>\n",
       "      <th></th>\n",
       "      <th></th>\n",
       "      <th></th>\n",
       "      <th></th>\n",
       "      <th></th>\n",
       "      <th></th>\n",
       "      <th></th>\n",
       "      <th></th>\n",
       "    </tr>\n",
       "  </thead>\n",
       "  <tbody>\n",
       "    <tr>\n",
       "      <th>1.0</th>\n",
       "      <td>4.077375</td>\n",
       "      <td>27.704212</td>\n",
       "      <td>7.439765</td>\n",
       "      <td>1.041626</td>\n",
       "      <td>14.441724</td>\n",
       "      <td>3.431929</td>\n",
       "      <td>3.902057</td>\n",
       "      <td>1.246989</td>\n",
       "      <td>0.399608</td>\n",
       "    </tr>\n",
       "    <tr>\n",
       "      <th>2.0</th>\n",
       "      <td>4.021173</td>\n",
       "      <td>28.618218</td>\n",
       "      <td>8.650640</td>\n",
       "      <td>1.334804</td>\n",
       "      <td>13.985002</td>\n",
       "      <td>3.369210</td>\n",
       "      <td>3.820026</td>\n",
       "      <td>0.767282</td>\n",
       "      <td>0.361270</td>\n",
       "    </tr>\n",
       "    <tr>\n",
       "      <th>3.0</th>\n",
       "      <td>4.141206</td>\n",
       "      <td>29.536953</td>\n",
       "      <td>9.436416</td>\n",
       "      <td>1.492981</td>\n",
       "      <td>14.175475</td>\n",
       "      <td>3.439306</td>\n",
       "      <td>3.828241</td>\n",
       "      <td>0.545039</td>\n",
       "      <td>0.291908</td>\n",
       "    </tr>\n",
       "    <tr>\n",
       "      <th>4.0</th>\n",
       "      <td>4.349085</td>\n",
       "      <td>31.157774</td>\n",
       "      <td>11.115854</td>\n",
       "      <td>1.809451</td>\n",
       "      <td>14.753049</td>\n",
       "      <td>3.545732</td>\n",
       "      <td>3.954268</td>\n",
       "      <td>0.240431</td>\n",
       "      <td>0.181402</td>\n",
       "    </tr>\n",
       "  </tbody>\n",
       "</table>\n",
       "</div>"
      ],
      "text/plain": [
       "           rate_marriage        age  yrs_married  children       educ  \\\n",
       "religious                                                               \n",
       "1.0             4.077375  27.704212     7.439765  1.041626  14.441724   \n",
       "2.0             4.021173  28.618218     8.650640  1.334804  13.985002   \n",
       "3.0             4.141206  29.536953     9.436416  1.492981  14.175475   \n",
       "4.0             4.349085  31.157774    11.115854  1.809451  14.753049   \n",
       "\n",
       "           occupation  occupation_husb   affairs    affair  \n",
       "religious                                                   \n",
       "1.0          3.431929         3.902057  1.246989  0.399608  \n",
       "2.0          3.369210         3.820026  0.767282  0.361270  \n",
       "3.0          3.439306         3.828241  0.545039  0.291908  \n",
       "4.0          3.545732         3.954268  0.240431  0.181402  "
      ]
     },
     "execution_count": 14,
     "metadata": {},
     "output_type": "execute_result"
    }
   ],
   "source": [
    "# d) Statistics about data based upon religious values\n",
    "print(\"Statistics about data based upon religious values\")\n",
    "df_Affairdata.groupby('religious').mean()"
   ]
  },
  {
   "cell_type": "code",
   "execution_count": 15,
   "metadata": {},
   "outputs": [
    {
     "name": "stdout",
     "output_type": "stream",
     "text": [
      "Statistical observation of affair data\n"
     ]
    },
    {
     "data": {
      "text/html": [
       "<div>\n",
       "<style scoped>\n",
       "    .dataframe tbody tr th:only-of-type {\n",
       "        vertical-align: middle;\n",
       "    }\n",
       "\n",
       "    .dataframe tbody tr th {\n",
       "        vertical-align: top;\n",
       "    }\n",
       "\n",
       "    .dataframe thead th {\n",
       "        text-align: right;\n",
       "    }\n",
       "</style>\n",
       "<table border=\"1\" class=\"dataframe\">\n",
       "  <thead>\n",
       "    <tr style=\"text-align: right;\">\n",
       "      <th></th>\n",
       "      <th>rate_marriage</th>\n",
       "      <th>age</th>\n",
       "      <th>yrs_married</th>\n",
       "      <th>children</th>\n",
       "      <th>religious</th>\n",
       "      <th>educ</th>\n",
       "      <th>occupation</th>\n",
       "      <th>occupation_husb</th>\n",
       "      <th>affairs</th>\n",
       "      <th>affair</th>\n",
       "    </tr>\n",
       "  </thead>\n",
       "  <tbody>\n",
       "    <tr>\n",
       "      <th>count</th>\n",
       "      <td>6366.000000</td>\n",
       "      <td>6366.000000</td>\n",
       "      <td>6366.000000</td>\n",
       "      <td>6366.000000</td>\n",
       "      <td>6366.000000</td>\n",
       "      <td>6366.000000</td>\n",
       "      <td>6366.000000</td>\n",
       "      <td>6366.000000</td>\n",
       "      <td>6366.000000</td>\n",
       "      <td>6366.000000</td>\n",
       "    </tr>\n",
       "    <tr>\n",
       "      <th>mean</th>\n",
       "      <td>4.109645</td>\n",
       "      <td>29.082862</td>\n",
       "      <td>9.009425</td>\n",
       "      <td>1.396874</td>\n",
       "      <td>2.426170</td>\n",
       "      <td>14.209865</td>\n",
       "      <td>3.424128</td>\n",
       "      <td>3.850141</td>\n",
       "      <td>0.705374</td>\n",
       "      <td>0.322495</td>\n",
       "    </tr>\n",
       "    <tr>\n",
       "      <th>std</th>\n",
       "      <td>0.961430</td>\n",
       "      <td>6.847882</td>\n",
       "      <td>7.280120</td>\n",
       "      <td>1.433471</td>\n",
       "      <td>0.878369</td>\n",
       "      <td>2.178003</td>\n",
       "      <td>0.942399</td>\n",
       "      <td>1.346435</td>\n",
       "      <td>2.203374</td>\n",
       "      <td>0.467468</td>\n",
       "    </tr>\n",
       "    <tr>\n",
       "      <th>min</th>\n",
       "      <td>1.000000</td>\n",
       "      <td>17.500000</td>\n",
       "      <td>0.500000</td>\n",
       "      <td>0.000000</td>\n",
       "      <td>1.000000</td>\n",
       "      <td>9.000000</td>\n",
       "      <td>1.000000</td>\n",
       "      <td>1.000000</td>\n",
       "      <td>0.000000</td>\n",
       "      <td>0.000000</td>\n",
       "    </tr>\n",
       "    <tr>\n",
       "      <th>25%</th>\n",
       "      <td>4.000000</td>\n",
       "      <td>22.000000</td>\n",
       "      <td>2.500000</td>\n",
       "      <td>0.000000</td>\n",
       "      <td>2.000000</td>\n",
       "      <td>12.000000</td>\n",
       "      <td>3.000000</td>\n",
       "      <td>3.000000</td>\n",
       "      <td>0.000000</td>\n",
       "      <td>0.000000</td>\n",
       "    </tr>\n",
       "    <tr>\n",
       "      <th>50%</th>\n",
       "      <td>4.000000</td>\n",
       "      <td>27.000000</td>\n",
       "      <td>6.000000</td>\n",
       "      <td>1.000000</td>\n",
       "      <td>2.000000</td>\n",
       "      <td>14.000000</td>\n",
       "      <td>3.000000</td>\n",
       "      <td>4.000000</td>\n",
       "      <td>0.000000</td>\n",
       "      <td>0.000000</td>\n",
       "    </tr>\n",
       "    <tr>\n",
       "      <th>75%</th>\n",
       "      <td>5.000000</td>\n",
       "      <td>32.000000</td>\n",
       "      <td>16.500000</td>\n",
       "      <td>2.000000</td>\n",
       "      <td>3.000000</td>\n",
       "      <td>16.000000</td>\n",
       "      <td>4.000000</td>\n",
       "      <td>5.000000</td>\n",
       "      <td>0.484848</td>\n",
       "      <td>1.000000</td>\n",
       "    </tr>\n",
       "    <tr>\n",
       "      <th>max</th>\n",
       "      <td>5.000000</td>\n",
       "      <td>42.000000</td>\n",
       "      <td>23.000000</td>\n",
       "      <td>5.500000</td>\n",
       "      <td>4.000000</td>\n",
       "      <td>20.000000</td>\n",
       "      <td>6.000000</td>\n",
       "      <td>6.000000</td>\n",
       "      <td>57.599991</td>\n",
       "      <td>1.000000</td>\n",
       "    </tr>\n",
       "  </tbody>\n",
       "</table>\n",
       "</div>"
      ],
      "text/plain": [
       "       rate_marriage          age  yrs_married     children    religious  \\\n",
       "count    6366.000000  6366.000000  6366.000000  6366.000000  6366.000000   \n",
       "mean        4.109645    29.082862     9.009425     1.396874     2.426170   \n",
       "std         0.961430     6.847882     7.280120     1.433471     0.878369   \n",
       "min         1.000000    17.500000     0.500000     0.000000     1.000000   \n",
       "25%         4.000000    22.000000     2.500000     0.000000     2.000000   \n",
       "50%         4.000000    27.000000     6.000000     1.000000     2.000000   \n",
       "75%         5.000000    32.000000    16.500000     2.000000     3.000000   \n",
       "max         5.000000    42.000000    23.000000     5.500000     4.000000   \n",
       "\n",
       "              educ   occupation  occupation_husb      affairs       affair  \n",
       "count  6366.000000  6366.000000      6366.000000  6366.000000  6366.000000  \n",
       "mean     14.209865     3.424128         3.850141     0.705374     0.322495  \n",
       "std       2.178003     0.942399         1.346435     2.203374     0.467468  \n",
       "min       9.000000     1.000000         1.000000     0.000000     0.000000  \n",
       "25%      12.000000     3.000000         3.000000     0.000000     0.000000  \n",
       "50%      14.000000     3.000000         4.000000     0.000000     0.000000  \n",
       "75%      16.000000     4.000000         5.000000     0.484848     1.000000  \n",
       "max      20.000000     6.000000         6.000000    57.599991     1.000000  "
      ]
     },
     "execution_count": 15,
     "metadata": {},
     "output_type": "execute_result"
    }
   ],
   "source": [
    "# e) Statistical observation of affair data\n",
    "print(\"Statistical observation of affair data\")\n",
    "df_Affairdata.describe()"
   ]
  },
  {
   "cell_type": "code",
   "execution_count": 17,
   "metadata": {},
   "outputs": [
    {
     "name": "stdout",
     "output_type": "stream",
     "text": [
      "Total availabale data in affairs data : 6366\n"
     ]
    },
    {
     "data": {
      "text/plain": [
       "0    4313\n",
       "1    2053\n",
       "Name: affair, dtype: int64"
      ]
     },
     "execution_count": 17,
     "metadata": {},
     "output_type": "execute_result"
    }
   ],
   "source": [
    "# f) To find out how many people have extra maritial affairs\n",
    "print(\"Total availabale data in affairs data :\", len(df_Affairdata))\n",
    "df_Affairdata['affair'].value_counts()"
   ]
  },
  {
   "cell_type": "code",
   "execution_count": 18,
   "metadata": {},
   "outputs": [
    {
     "data": {
      "text/plain": [
       "0    67.75055\n",
       "1    32.24945\n",
       "Name: affair, dtype: float64"
      ]
     },
     "execution_count": 18,
     "metadata": {},
     "output_type": "execute_result"
    }
   ],
   "source": [
    "df_Affairdata['affair'].value_counts(normalize=True)*100"
   ]
  },
  {
   "cell_type": "code",
   "execution_count": 19,
   "metadata": {},
   "outputs": [
    {
     "name": "stdout",
     "output_type": "stream",
     "text": [
      "NULL or NA data in affair data\n"
     ]
    },
    {
     "data": {
      "text/plain": [
       "rate_marriage      0\n",
       "age                0\n",
       "yrs_married        0\n",
       "children           0\n",
       "religious          0\n",
       "educ               0\n",
       "occupation         0\n",
       "occupation_husb    0\n",
       "affairs            0\n",
       "affair             0\n",
       "dtype: int64"
      ]
     },
     "execution_count": 19,
     "metadata": {},
     "output_type": "execute_result"
    }
   ],
   "source": [
    "# g) NULL or NA data verification in affair data\n",
    "print(\"NULL or NA data in affair data\")\n",
    "df_Affairdata.isnull().sum()"
   ]
  },
  {
   "cell_type": "code",
   "execution_count": 20,
   "metadata": {},
   "outputs": [
    {
     "data": {
      "text/plain": [
       "rate_marriage      0\n",
       "age                0\n",
       "yrs_married        0\n",
       "children           0\n",
       "religious          0\n",
       "educ               0\n",
       "occupation         0\n",
       "occupation_husb    0\n",
       "affairs            0\n",
       "affair             0\n",
       "dtype: int64"
      ]
     },
     "execution_count": 20,
     "metadata": {},
     "output_type": "execute_result"
    }
   ],
   "source": [
    "df_Affairdata.isna().sum()"
   ]
  },
  {
   "cell_type": "markdown",
   "metadata": {},
   "source": [
    "# Data Visualisation"
   ]
  },
  {
   "cell_type": "code",
   "execution_count": 21,
   "metadata": {},
   "outputs": [
    {
     "data": {
      "text/plain": [
       "Text(0,0.5,'Frequency')"
      ]
     },
     "execution_count": 21,
     "metadata": {},
     "output_type": "execute_result"
    },
    {
     "data": {
      "image/png": "[encoded data removed]",
      "text/plain": [
       "<Figure size 432x288 with 1 Axes>"
      ]
     },
     "metadata": {
      "needs_background": "light"
     },
     "output_type": "display_data"
    }
   ],
   "source": [
    "# a ) bar-plot between marriage rating and affair\n",
    "# barplot of marriage rating grouped by affair (True or False)\n",
    "pd.crosstab(df_Affairdata['rate_marriage'], df_Affairdata['affair'].astype(bool)).plot(kind='bar')\n",
    "plt.title('Marriage Rating Distribution by affair Status')\n",
    "plt.xlabel('Marriage rating')\n",
    "plt.ylabel('Frequency')"
   ]
  },
  {
   "cell_type": "code",
   "execution_count": 22,
   "metadata": {},
   "outputs": [
    {
     "name": "stdout",
     "output_type": "stream",
     "text": [
      "bar-plot between age and affair\n"
     ]
    },
    {
     "data": {
      "text/plain": [
       "Text(0,0.5,'Frequency')"
      ]
     },
     "execution_count": 22,
     "metadata": {},
     "output_type": "execute_result"
    },
    {
     "data": {
      "image/png": "[encoded data removed]",
      "text/plain": [
       "<Figure size 432x288 with 1 Axes>"
      ]
     },
     "metadata": {
      "needs_background": "light"
     },
     "output_type": "display_data"
    }
   ],
   "source": [
    "# b ) bar-plot between age and affair\n",
    "print(\"bar-plot between age and affair\")\n",
    "pd.crosstab(df_Affairdata['age'], df_Affairdata['affair'].astype(bool)).plot(kind='bar')\n",
    "plt.title('Affair status based on Age')\n",
    "plt.xlabel('Age')\n",
    "plt.ylabel('Frequency')"
   ]
  },
  {
   "cell_type": "code",
   "execution_count": 23,
   "metadata": {},
   "outputs": [
    {
     "name": "stdout",
     "output_type": "stream",
     "text": [
      "bar-plot between Years of Marriage and affair\n"
     ]
    },
    {
     "data": {
      "text/plain": [
       "Text(0,0.5,'Frequency')"
      ]
     },
     "execution_count": 23,
     "metadata": {},
     "output_type": "execute_result"
    },
    {
     "data": {
      "image/png": "[encoded data removed]",
      "text/plain": [
       "<Figure size 432x288 with 1 Axes>"
      ]
     },
     "metadata": {
      "needs_background": "light"
     },
     "output_type": "display_data"
    }
   ],
   "source": [
    "# c ) bar-plot between Years of Marriage and affair\n",
    "print(\"bar-plot between Years of Marriage and affair\")\n",
    "pd.crosstab(df_Affairdata['yrs_married'], df_Affairdata['affair'].astype(bool)).plot(kind='bar')\n",
    "plt.title('Affair status based on Years of Marriage')\n",
    "plt.xlabel('Years of Marriage')\n",
    "plt.ylabel('Frequency')"
   ]
  },
  {
   "cell_type": "code",
   "execution_count": 25,
   "metadata": {},
   "outputs": [
    {
     "data": {
      "text/plain": [
       "Text(0,0.5,'Frequency')"
      ]
     },
     "execution_count": 25,
     "metadata": {},
     "output_type": "execute_result"
    },
    {
     "data": {
      "image/png": "[encoded data removed]",
      "text/plain": [
       "<Figure size 432x288 with 1 Axes>"
      ]
     },
     "metadata": {
      "needs_background": "light"
     },
     "output_type": "display_data"
    }
   ],
   "source": [
    "# d ) bar-plot between children and affair\n",
    "pd.crosstab(df_Affairdata['children'], df_Affairdata['affair'].astype(bool)).plot(kind='bar')\n",
    "plt.title('Affair status based on No.Of children')\n",
    "plt.xlabel('No. Of children')\n",
    "plt.ylabel('Frequency')"
   ]
  },
  {
   "cell_type": "code",
   "execution_count": 26,
   "metadata": {},
   "outputs": [
    {
     "data": {
      "text/plain": [
       "Text(0,0.5,'Frequency')"
      ]
     },
     "execution_count": 26,
     "metadata": {},
     "output_type": "execute_result"
    },
    {
     "data": {
      "image/png": "[encoded data removed]",
      "text/plain": [
       "<Figure size 432x288 with 1 Axes>"
      ]
     },
     "metadata": {
      "needs_background": "light"
     },
     "output_type": "display_data"
    }
   ],
   "source": [
    "# e ) bar-plot between religious and affair\n",
    "pd.crosstab(df_Affairdata['religious'], df_Affairdata['affair'].astype(bool)).plot(kind='bar')\n",
    "plt.title('Affair status based on relgious values')\n",
    "plt.xlabel('Relgious values')\n",
    "plt.ylabel('Frequency')"
   ]
  },
  {
   "cell_type": "code",
   "execution_count": 27,
   "metadata": {},
   "outputs": [
    {
     "data": {
      "text/plain": [
       "Text(0,0.5,'Frequency')"
      ]
     },
     "execution_count": 27,
     "metadata": {},
     "output_type": "execute_result"
    },
    {
     "data": {
      "image/png": "[encoded data removed]",
      "text/plain": [
       "<Figure size 432x288 with 1 Axes>"
      ]
     },
     "metadata": {
      "needs_background": "light"
     },
     "output_type": "display_data"
    }
   ],
   "source": [
    "# f ) bar-plot between educational status and affair\n",
    "pd.crosstab(df_Affairdata['educ'], df_Affairdata['affair'].astype(bool)).plot(kind='bar')\n",
    "plt.title('Affair status based on  educational status ')\n",
    "plt.xlabel('Educational status ')\n",
    "plt.ylabel('Frequency')"
   ]
  },
  {
   "cell_type": "markdown",
   "metadata": {},
   "source": [
    "# Logistic Regression"
   ]
  },
  {
   "cell_type": "markdown",
   "metadata": {},
   "source": [
    "## Prepare Data for Logistic Regression"
   ]
  },
  {
   "cell_type": "code",
   "execution_count": 29,
   "metadata": {},
   "outputs": [
    {
     "data": {
      "text/plain": [
       "array([2., 3., 5., 4., 1., 6.])"
      ]
     },
     "execution_count": 29,
     "metadata": {},
     "output_type": "execute_result"
    }
   ],
   "source": [
    "df_Affairdata['occupation'].unique()"
   ]
  },
  {
   "cell_type": "code",
   "execution_count": 30,
   "metadata": {},
   "outputs": [
    {
     "data": {
      "text/plain": [
       "array([5., 4., 3., 2., 6., 1.])"
      ]
     },
     "execution_count": 30,
     "metadata": {},
     "output_type": "execute_result"
    }
   ],
   "source": [
    "df_Affairdata['occupation_husb'].unique()"
   ]
  },
  {
   "cell_type": "code",
   "execution_count": 32,
   "metadata": {},
   "outputs": [
    {
     "name": "stdout",
     "output_type": "stream",
     "text": [
      "Help on function dmatrices in module patsy.highlevel:\n",
      "\n",
      "dmatrices(formula_like, data={}, eval_env=0, NA_action='drop', return_type='matrix')\n",
      "    Construct two design matrices given a formula_like and data.\n",
      "    \n",
      "    This function is identical to :func:`dmatrix`, except that it requires\n",
      "    (and returns) two matrices instead of one. By convention, the first matrix\n",
      "    is the \"outcome\" or \"y\" data, and the second is the \"predictor\" or \"x\"\n",
      "    data.\n",
      "    \n",
      "    See :func:`dmatrix` for details.\n",
      "\n"
     ]
    }
   ],
   "source": [
    "y, X = dmatrices('affair ~ rate_marriage + age + yrs_married + children + religious + educ \\\n",
    "                  + C(occupation) + C(occupation_husb)', df_Affairdata, return_type=\"dataframe\")\n",
    "help(dmatrices)"
   ]
  },
  {
   "cell_type": "code",
   "execution_count": 33,
   "metadata": {},
   "outputs": [
    {
     "data": {
      "text/html": [
       "<div>\n",
       "<style scoped>\n",
       "    .dataframe tbody tr th:only-of-type {\n",
       "        vertical-align: middle;\n",
       "    }\n",
       "\n",
       "    .dataframe tbody tr th {\n",
       "        vertical-align: top;\n",
       "    }\n",
       "\n",
       "    .dataframe thead th {\n",
       "        text-align: right;\n",
       "    }\n",
       "</style>\n",
       "<table border=\"1\" class=\"dataframe\">\n",
       "  <thead>\n",
       "    <tr style=\"text-align: right;\">\n",
       "      <th></th>\n",
       "      <th>Intercept</th>\n",
       "      <th>C(occupation)[T.2.0]</th>\n",
       "      <th>C(occupation)[T.3.0]</th>\n",
       "      <th>C(occupation)[T.4.0]</th>\n",
       "      <th>C(occupation)[T.5.0]</th>\n",
       "      <th>C(occupation)[T.6.0]</th>\n",
       "      <th>C(occupation_husb)[T.2.0]</th>\n",
       "      <th>C(occupation_husb)[T.3.0]</th>\n",
       "      <th>C(occupation_husb)[T.4.0]</th>\n",
       "      <th>C(occupation_husb)[T.5.0]</th>\n",
       "      <th>C(occupation_husb)[T.6.0]</th>\n",
       "      <th>rate_marriage</th>\n",
       "      <th>age</th>\n",
       "      <th>yrs_married</th>\n",
       "      <th>children</th>\n",
       "      <th>religious</th>\n",
       "      <th>educ</th>\n",
       "    </tr>\n",
       "  </thead>\n",
       "  <tbody>\n",
       "    <tr>\n",
       "      <th>0</th>\n",
       "      <td>1.0</td>\n",
       "      <td>1.0</td>\n",
       "      <td>0.0</td>\n",
       "      <td>0.0</td>\n",
       "      <td>0.0</td>\n",
       "      <td>0.0</td>\n",
       "      <td>0.0</td>\n",
       "      <td>0.0</td>\n",
       "      <td>0.0</td>\n",
       "      <td>1.0</td>\n",
       "      <td>0.0</td>\n",
       "      <td>3.0</td>\n",
       "      <td>32.0</td>\n",
       "      <td>9.0</td>\n",
       "      <td>3.0</td>\n",
       "      <td>3.0</td>\n",
       "      <td>17.0</td>\n",
       "    </tr>\n",
       "    <tr>\n",
       "      <th>1</th>\n",
       "      <td>1.0</td>\n",
       "      <td>0.0</td>\n",
       "      <td>1.0</td>\n",
       "      <td>0.0</td>\n",
       "      <td>0.0</td>\n",
       "      <td>0.0</td>\n",
       "      <td>0.0</td>\n",
       "      <td>0.0</td>\n",
       "      <td>1.0</td>\n",
       "      <td>0.0</td>\n",
       "      <td>0.0</td>\n",
       "      <td>3.0</td>\n",
       "      <td>27.0</td>\n",
       "      <td>13.0</td>\n",
       "      <td>3.0</td>\n",
       "      <td>1.0</td>\n",
       "      <td>14.0</td>\n",
       "    </tr>\n",
       "  </tbody>\n",
       "</table>\n",
       "</div>"
      ],
      "text/plain": [
       "   Intercept  C(occupation)[T.2.0]  C(occupation)[T.3.0]  \\\n",
       "0        1.0                   1.0                   0.0   \n",
       "1        1.0                   0.0                   1.0   \n",
       "\n",
       "   C(occupation)[T.4.0]  C(occupation)[T.5.0]  C(occupation)[T.6.0]  \\\n",
       "0                   0.0                   0.0                   0.0   \n",
       "1                   0.0                   0.0                   0.0   \n",
       "\n",
       "   C(occupation_husb)[T.2.0]  C(occupation_husb)[T.3.0]  \\\n",
       "0                        0.0                        0.0   \n",
       "1                        0.0                        0.0   \n",
       "\n",
       "   C(occupation_husb)[T.4.0]  C(occupation_husb)[T.5.0]  \\\n",
       "0                        0.0                        1.0   \n",
       "1                        1.0                        0.0   \n",
       "\n",
       "   C(occupation_husb)[T.6.0]  rate_marriage   age  yrs_married  children  \\\n",
       "0                        0.0            3.0  32.0          9.0       3.0   \n",
       "1                        0.0            3.0  27.0         13.0       3.0   \n",
       "\n",
       "   religious  educ  \n",
       "0        3.0  17.0  \n",
       "1        1.0  14.0  "
      ]
     },
     "execution_count": 33,
     "metadata": {},
     "output_type": "execute_result"
    }
   ],
   "source": [
    "# observation from dataframe return by dmatrices\n",
    "X.head(2)"
   ]
  },
  {
   "cell_type": "code",
   "execution_count": 34,
   "metadata": {},
   "outputs": [
    {
     "data": {
      "text/plain": [
       "['Intercept',\n",
       " 'C(occupation)[T.2.0]',\n",
       " 'C(occupation)[T.3.0]',\n",
       " 'C(occupation)[T.4.0]',\n",
       " 'C(occupation)[T.5.0]',\n",
       " 'C(occupation)[T.6.0]',\n",
       " 'C(occupation_husb)[T.2.0]',\n",
       " 'C(occupation_husb)[T.3.0]',\n",
       " 'C(occupation_husb)[T.4.0]',\n",
       " 'C(occupation_husb)[T.5.0]',\n",
       " 'C(occupation_husb)[T.6.0]',\n",
       " 'rate_marriage',\n",
       " 'age',\n",
       " 'yrs_married',\n",
       " 'children',\n",
       " 'religious',\n",
       " 'educ']"
      ]
     },
     "execution_count": 34,
     "metadata": {},
     "output_type": "execute_result"
    }
   ],
   "source": [
    "# Columns in dataframe return by dmatrices\n",
    "X.columns.tolist()"
   ]
  },
  {
   "cell_type": "code",
   "execution_count": 35,
   "metadata": {},
   "outputs": [
    {
     "data": {
      "text/plain": [
       "['Intercept',\n",
       " 'occ_women_2',\n",
       " 'occ_women_3',\n",
       " 'occ_women_4',\n",
       " 'occ_women_5',\n",
       " 'occ_women_6',\n",
       " 'occ_husb_2',\n",
       " 'occ_husb_3',\n",
       " 'occ_husb_4',\n",
       " 'occ_husb_5',\n",
       " 'occ_husb_6',\n",
       " 'rate_marriage',\n",
       " 'age',\n",
       " 'yrs_married',\n",
       " 'children',\n",
       " 'religious',\n",
       " 'educ']"
      ]
     },
     "execution_count": 35,
     "metadata": {},
     "output_type": "execute_result"
    }
   ],
   "source": [
    "# Rename columns of \" X \" \n",
    "X = X.rename(columns = {'C(occupation)[T.2.0]':'occ_women_2',\n",
    "                        'C(occupation)[T.3.0]':'occ_women_3',\n",
    "                        'C(occupation)[T.4.0]':'occ_women_4',\n",
    "                        'C(occupation)[T.5.0]':'occ_women_5',\n",
    "                        'C(occupation)[T.6.0]':'occ_women_6',\n",
    "                        'C(occupation_husb)[T.2.0]':'occ_husb_2',\n",
    "                        'C(occupation_husb)[T.3.0]':'occ_husb_3',\n",
    "                        'C(occupation_husb)[T.4.0]':'occ_husb_4',\n",
    "                        'C(occupation_husb)[T.5.0]':'occ_husb_5',\n",
    "                        'C(occupation_husb)[T.6.0]':'occ_husb_6'})\n",
    "X.columns.tolist()"
   ]
  },
  {
   "cell_type": "code",
   "execution_count": 36,
   "metadata": {},
   "outputs": [
    {
     "data": {
      "text/html": [
       "<div>\n",
       "<style scoped>\n",
       "    .dataframe tbody tr th:only-of-type {\n",
       "        vertical-align: middle;\n",
       "    }\n",
       "\n",
       "    .dataframe tbody tr th {\n",
       "        vertical-align: top;\n",
       "    }\n",
       "\n",
       "    .dataframe thead th {\n",
       "        text-align: right;\n",
       "    }\n",
       "</style>\n",
       "<table border=\"1\" class=\"dataframe\">\n",
       "  <thead>\n",
       "    <tr style=\"text-align: right;\">\n",
       "      <th></th>\n",
       "      <th>affair</th>\n",
       "    </tr>\n",
       "  </thead>\n",
       "  <tbody>\n",
       "    <tr>\n",
       "      <th>0</th>\n",
       "      <td>1.0</td>\n",
       "    </tr>\n",
       "    <tr>\n",
       "      <th>1</th>\n",
       "      <td>1.0</td>\n",
       "    </tr>\n",
       "    <tr>\n",
       "      <th>2</th>\n",
       "      <td>1.0</td>\n",
       "    </tr>\n",
       "    <tr>\n",
       "      <th>3</th>\n",
       "      <td>1.0</td>\n",
       "    </tr>\n",
       "    <tr>\n",
       "      <th>4</th>\n",
       "      <td>1.0</td>\n",
       "    </tr>\n",
       "  </tbody>\n",
       "</table>\n",
       "</div>"
      ],
      "text/plain": [
       "   affair\n",
       "0     1.0\n",
       "1     1.0\n",
       "2     1.0\n",
       "3     1.0\n",
       "4     1.0"
      ]
     },
     "execution_count": 36,
     "metadata": {},
     "output_type": "execute_result"
    }
   ],
   "source": [
    "y.head()"
   ]
  },
  {
   "cell_type": "markdown",
   "metadata": {},
   "source": [
    "# Logistic Regression using Statsmodels.api"
   ]
  },
  {
   "cell_type": "code",
   "execution_count": 38,
   "metadata": {},
   "outputs": [
    {
     "name": "stdout",
     "output_type": "stream",
     "text": [
      "Optimization terminated successfully.\n",
      "         Current function value: 0.542911\n",
      "         Iterations 6\n"
     ]
    }
   ],
   "source": [
    "from statsmodels.api import Logit\n",
    "# Assign Logit Model output into variable \n",
    "\n",
    "log_Reg_SM = Logit(df_Affairdata['affair'],X)\n",
    "results=log_Reg_SM.fit()"
   ]
  },
  {
   "cell_type": "code",
   "execution_count": 39,
   "metadata": {},
   "outputs": [
    {
     "name": "stdout",
     "output_type": "stream",
     "text": [
      "Summary of Logistics Regression with StatsModel\n",
      "                          Results: Logit\n",
      "==================================================================\n",
      "Model:              Logit            Pseudo R-squared: 0.137      \n",
      "Dependent Variable: affair           AIC:              6946.3465  \n",
      "Date:               2018-10-18 19:43 BIC:              7061.2449  \n",
      "No. Observations:   6366             Log-Likelihood:   -3456.2    \n",
      "Df Model:           16               LL-Null:          -4002.5    \n",
      "Df Residuals:       6349             LLR p-value:      1.5339e-222\n",
      "Converged:          1.0000           Scale:            1.0000     \n",
      "No. Iterations:     6.0000                                        \n",
      "------------------------------------------------------------------\n",
      "                   Coef.  Std.Err.    z     P>|z|   [0.025  0.975]\n",
      "------------------------------------------------------------------\n",
      "Intercept          2.9708   0.5722   5.1917 0.0000  1.8492  4.0923\n",
      "occ_women_2        0.3902   0.4476   0.8719 0.3832 -0.4869  1.2674\n",
      "occ_women_3        0.7027   0.4415   1.5917 0.1114 -0.1626  1.5679\n",
      "occ_women_4        0.4714   0.4425   1.0652 0.2868 -0.3959  1.3387\n",
      "occ_women_5        1.0542   0.4466   2.3603 0.0183  0.1788  1.9296\n",
      "occ_women_6        1.1080   0.4942   2.2420 0.0250  0.1394  2.0767\n",
      "occ_husb_2         0.1704   0.1861   0.9160 0.3597 -0.1943  0.5352\n",
      "occ_husb_3         0.2842   0.2022   1.4057 0.1598 -0.1121  0.6804\n",
      "occ_husb_4         0.1428   0.1810   0.7892 0.4300 -0.2119  0.4976\n",
      "occ_husb_5         0.1723   0.1826   0.9436 0.3454 -0.1856  0.5303\n",
      "occ_husb_6         0.1828   0.2037   0.8974 0.3695 -0.2164  0.5819\n",
      "rate_marriage     -0.7102   0.0315 -22.5600 0.0000 -0.7719 -0.6485\n",
      "age               -0.0613   0.0103  -5.9361 0.0000 -0.0815 -0.0410\n",
      "yrs_married        0.1080   0.0110   9.8364 0.0000  0.0865  0.1295\n",
      "children           0.0156   0.0321   0.4881 0.6255 -0.0472  0.0785\n",
      "religious         -0.3754   0.0349 -10.7657 0.0000 -0.4437 -0.3070\n",
      "educ              -0.0017   0.0174  -0.0992 0.9210 -0.0358  0.0324\n",
      "==================================================================\n",
      "\n"
     ]
    }
   ],
   "source": [
    "print(\"Summary of Logistics Regression with StatsModel\")\n",
    "print(results.summary2())"
   ]
  },
  {
   "cell_type": "markdown",
   "metadata": {},
   "source": [
    "# Logistic Regression using sklearn"
   ]
  },
  {
   "cell_type": "code",
   "execution_count": 40,
   "metadata": {},
   "outputs": [
    {
     "data": {
      "text/plain": [
       "LogisticRegression(C=1.0, class_weight=None, dual=False, fit_intercept=True,\n",
       "          intercept_scaling=1, max_iter=100, multi_class='ovr', n_jobs=1,\n",
       "          penalty='l2', random_state=None, solver='liblinear', tol=0.0001,\n",
       "          verbose=0, warm_start=False)"
      ]
     },
     "execution_count": 40,
     "metadata": {},
     "output_type": "execute_result"
    }
   ],
   "source": [
    "from sklearn.linear_model import LogisticRegression\n",
    "# instantiate a logistic regression model, and fit with X and y\n",
    "log_reg_Sklearn= LogisticRegression()\n",
    "log_Reg_model = log_reg_Sklearn.fit(X, np.ravel(y))\n",
    "log_Reg_model"
   ]
  },
  {
   "cell_type": "code",
   "execution_count": 41,
   "metadata": {},
   "outputs": [
    {
     "data": {
      "text/plain": [
       "0.7258875274897895"
      ]
     },
     "execution_count": 41,
     "metadata": {},
     "output_type": "execute_result"
    }
   ],
   "source": [
    "# Acccuracy prediction on the training set\n",
    "log_Reg_model.score(X,y)"
   ]
  },
  {
   "cell_type": "code",
   "execution_count": 42,
   "metadata": {},
   "outputs": [
    {
     "data": {
      "text/plain": [
       "affair    0.322495\n",
       "dtype: float64"
      ]
     },
     "execution_count": 42,
     "metadata": {},
     "output_type": "execute_result"
    }
   ],
   "source": [
    "y.mean()"
   ]
  },
  {
   "cell_type": "code",
   "execution_count": 43,
   "metadata": {},
   "outputs": [
    {
     "name": "stdout",
     "output_type": "stream",
     "text": [
      "The Intercept values is :  1.4898837457180918\n",
      "\n",
      "Features and their Coefficients are: \n",
      "\n",
      "         Features  Coefficients\n",
      "0       Intercept      1.489884\n",
      "1     occ_women_2      0.188046\n",
      "2     occ_women_3      0.498926\n",
      "3     occ_women_4      0.250647\n",
      "4     occ_women_5      0.838983\n",
      "5     occ_women_6      0.833921\n",
      "6      occ_husb_2      0.190547\n",
      "7      occ_husb_3      0.297745\n",
      "8      occ_husb_4      0.161319\n",
      "9      occ_husb_5      0.187683\n",
      "10     occ_husb_6      0.193917\n",
      "11  rate_marriage     -0.703120\n",
      "12            age     -0.058418\n",
      "13    yrs_married      0.105677\n",
      "14       children      0.016920\n",
      "15      religious     -0.371135\n",
      "16           educ      0.004016\n"
     ]
    }
   ],
   "source": [
    "print(\"The Intercept values is : \", log_Reg_model.intercept_[0])\n",
    "print(\"\\nFeatures and their Coefficients are: \\n\")\n",
    "print(pd.DataFrame(list(zip(X.columns,np.transpose(log_Reg_model.coef_[0]))), columns=['Features','Coefficients']))"
   ]
  },
  {
   "cell_type": "markdown",
   "metadata": {},
   "source": [
    "# Model Evaluation Using a Validation Set"
   ]
  },
  {
   "cell_type": "code",
   "execution_count": 44,
   "metadata": {},
   "outputs": [
    {
     "name": "stdout",
     "output_type": "stream",
     "text": [
      "The Size of Fetures data(X) for Training set (4456, 17)\n",
      "The Size of Fetures data(X) for Test set (1910, 17)\n",
      "The Size of Target data(y) for Training set (4456, 1)\n",
      "The Size of Target data(y) for Training set (1910, 1)\n"
     ]
    }
   ],
   "source": [
    "# Split of data can be sone through sklearn.model_selection methon train_tets_split\n",
    "from sklearn.model_selection import train_test_split\n",
    "X_train, X_test , y_train, y_test = train_test_split(X, y, test_size=0.3 , random_state=0)\n",
    "print(\"The Size of Fetures data(X) for Training set\" , X_train.shape)\n",
    "print(\"The Size of Fetures data(X) for Test set\" , X_test.shape)\n",
    "print(\"The Size of Target data(y) for Training set\" , y_train.shape)\n",
    "print(\"The Size of Target data(y) for Training set\" , y_test.shape)"
   ]
  },
  {
   "cell_type": "code",
   "execution_count": 45,
   "metadata": {},
   "outputs": [
    {
     "data": {
      "text/plain": [
       "LogisticRegression(C=1.0, class_weight=None, dual=False, fit_intercept=True,\n",
       "          intercept_scaling=1, max_iter=100, multi_class='ovr', n_jobs=1,\n",
       "          penalty='l2', random_state=None, solver='liblinear', tol=0.0001,\n",
       "          verbose=0, warm_start=False)"
      ]
     },
     "execution_count": 45,
     "metadata": {},
     "output_type": "execute_result"
    }
   ],
   "source": [
    "# Apply Logistic Regression model\n",
    "# evaluate the model by splitting into train and test sets\n",
    "log_regssion_model_train= LogisticRegression()\n",
    "log_regssion_model_train.fit(X_train,np.ravel(y_train))"
   ]
  },
  {
   "cell_type": "code",
   "execution_count": 46,
   "metadata": {},
   "outputs": [
    {
     "data": {
      "text/plain": [
       "array([1., 0., 0., ..., 0., 0., 0.])"
      ]
     },
     "execution_count": 46,
     "metadata": {},
     "output_type": "execute_result"
    }
   ],
   "source": [
    "# predict class labels for the test set\n",
    "y_predict = log_regssion_model_train.predict(X_test)\n",
    "y_predict"
   ]
  },
  {
   "cell_type": "code",
   "execution_count": 47,
   "metadata": {},
   "outputs": [
    {
     "data": {
      "text/plain": [
       "array([[0.35146338, 0.64853662],\n",
       "       [0.90955084, 0.09044916],\n",
       "       [0.72567333, 0.27432667],\n",
       "       ...,\n",
       "       [0.55727384, 0.44272616],\n",
       "       [0.81207046, 0.18792954],\n",
       "       [0.74734603, 0.25265397]])"
      ]
     },
     "execution_count": 47,
     "metadata": {},
     "output_type": "execute_result"
    }
   ],
   "source": [
    "# generate class probabilities\n",
    "y_probs = log_regssion_model_train.predict_proba(X_test)\n",
    "y_probs"
   ]
  },
  {
   "cell_type": "markdown",
   "metadata": {},
   "source": [
    "# Model Evaluation"
   ]
  },
  {
   "cell_type": "markdown",
   "metadata": {},
   "source": [
    "### Confusion matrix"
   ]
  },
  {
   "cell_type": "code",
   "execution_count": 49,
   "metadata": {},
   "outputs": [
    {
     "name": "stdout",
     "output_type": "stream",
     "text": [
      "Confusion matrix \n",
      " [[1169  134]\n",
      " [ 382  225]]\n"
     ]
    }
   ],
   "source": [
    "from sklearn import metrics\n",
    "confusion_matrix = metrics.confusion_matrix(y_test, y_predict)\n",
    "print(\"Confusion matrix \\n\",confusion_matrix)"
   ]
  },
  {
   "cell_type": "markdown",
   "metadata": {},
   "source": [
    "### Classification Report"
   ]
  },
  {
   "cell_type": "code",
   "execution_count": 50,
   "metadata": {},
   "outputs": [
    {
     "name": "stdout",
     "output_type": "stream",
     "text": [
      "Classification Report \n",
      "              precision    recall  f1-score   support\n",
      "\n",
      "        0.0       0.75      0.90      0.82      1303\n",
      "        1.0       0.63      0.37      0.47       607\n",
      "\n",
      "avg / total       0.71      0.73      0.71      1910\n",
      "\n"
     ]
    }
   ],
   "source": [
    "classification_report= metrics.classification_report(y_test, y_predict)\n",
    "print(\"Classification Report \\n\",classification_report)"
   ]
  },
  {
   "cell_type": "markdown",
   "metadata": {},
   "source": [
    "### Model Accuracy"
   ]
  },
  {
   "cell_type": "code",
   "execution_count": 51,
   "metadata": {},
   "outputs": [
    {
     "name": "stdout",
     "output_type": "stream",
     "text": [
      "Model Accuracy : 0.7298429319371728\n"
     ]
    }
   ],
   "source": [
    "model_accuracy = log_regssion_model_train.score(X_test,y_test)\n",
    "print(\"Model Accuracy :\", model_accuracy)"
   ]
  },
  {
   "cell_type": "code",
   "execution_count": 52,
   "metadata": {},
   "outputs": [
    {
     "name": "stdout",
     "output_type": "stream",
     "text": [
      "0.7298429319371728\n",
      "0.745950606950631\n"
     ]
    }
   ],
   "source": [
    "# generate evaluation metrics\n",
    "# model accuracy prediction using sklear.metrices\n",
    "print(metrics.accuracy_score(y_test, y_predict))\n",
    "print(metrics.roc_auc_score(y_test, y_probs[:, 1]))"
   ]
  },
  {
   "cell_type": "markdown",
   "metadata": {},
   "source": [
    "### Model Evaluation Using Cross-Validation"
   ]
  },
  {
   "cell_type": "code",
   "execution_count": 54,
   "metadata": {},
   "outputs": [
    {
     "data": {
      "text/plain": [
       "array([0.72100313, 0.70219436, 0.73824451, 0.70597484, 0.70597484,\n",
       "       0.72955975, 0.7327044 , 0.70440252, 0.75157233, 0.75      ])"
      ]
     },
     "execution_count": 54,
     "metadata": {},
     "output_type": "execute_result"
    }
   ],
   "source": [
    "# evaluate the model using 10-fold cross-validation\n",
    "scores = cross_val_score(LogisticRegression(), X, np.ravel(y), scoring='accuracy', cv=10)\n",
    "scores"
   ]
  },
  {
   "cell_type": "code",
   "execution_count": 56,
   "metadata": {},
   "outputs": [
    {
     "name": "stdout",
     "output_type": "stream",
     "text": [
      "mean\n",
      "0.7241630685514876\n"
     ]
    }
   ],
   "source": [
    "print(\"mean\")\n",
    "print(scores.mean())"
   ]
  },
  {
   "cell_type": "markdown",
   "metadata": {},
   "source": [
    "### Predicting the Probability of an Affair"
   ]
  },
  {
   "cell_type": "code",
   "execution_count": 58,
   "metadata": {},
   "outputs": [
    {
     "data": {
      "text/plain": [
       "array([[0.77503337, 0.22496663]])"
      ]
     },
     "execution_count": 58,
     "metadata": {},
     "output_type": "execute_result"
    }
   ],
   "source": [
    "#probability prediction\n",
    "log_regssion_model_train.predict_proba(np.array([[1, 0, 0, 1, 0, 0, 1, 0, 0, 0, 0, 3, 25, 3, 2, 4,16]]))"
   ]
  }
 ],
 "metadata": {
  "kernelspec": {
   "display_name": "Python 3",
   "language": "python",
   "name": "python3"
  },
  "language_info": {
   "codemirror_mode": {
    "name": "ipython",
    "version": 3
   },
   "file_extension": ".py",
   "mimetype": "text/x-python",
   "name": "python",
   "nbconvert_exporter": "python",
   "pygments_lexer": "ipython3",
   "version": "3.7.0"
  }
 },
 "nbformat": 4,
 "nbformat_minor": 2
}
