{
 "cells": [
  {
   "cell_type": "code",
   "execution_count": 7,
   "metadata": {},
   "outputs": [
    {
     "name": "stdout",
     "output_type": "stream",
     "text": [
      "moving average output with given window is [rounded of to three digits] \n",
      " [  5.      4.667   5.667   6.667   9.667  28.667  49.333  72.667  84.\n",
      "  93.333 116.333]\n",
      "\n",
      "\n",
      "\n",
      "End of assignment\n"
     ]
    }
   ],
   "source": [
    "'''Write a function to find moving average in an array over a window:\n",
    "Test it over [3, 5, 7, 2, 8, 10, 11, 65, 72, 81, 99, 100, 150] and window of 3'''\n",
    "\n",
    "import numpy as np\n",
    "# given input list\n",
    "x=np.array([3,5,7,2,8,10,11,65,72,81,99,100,150])\n",
    "N=3\n",
    "# defining function for calc moving average\n",
    "def movingAverage(x, N):\n",
    "    y = np.zeros((len(x)-N+1))\n",
    "    for ctr in range(len(x)-N+1):\n",
    "         y[ctr] = np.sum(x[ctr:(ctr+N)])\n",
    "    return y/N\n",
    "\n",
    "print(\"moving average output with given window is [rounded of to three digits] \\n\",np.round_(movingAverage(x,N),3))\n",
    "\n",
    "print('\\n')\n",
    "\n",
    "print(\"\\nEnd of assignment\")"
   ]
  }
 ],
 "metadata": {
  "kernelspec": {
   "display_name": "Python 3",
   "language": "python",
   "name": "python3"
  },
  "language_info": {
   "codemirror_mode": {
    "name": "ipython",
    "version": 3
   },
   "file_extension": ".py",
   "mimetype": "text/x-python",
   "name": "python",
   "nbconvert_exporter": "python",
   "pygments_lexer": "ipython3",
   "version": "3.6.6"
  }
 },
 "nbformat": 4,
 "nbformat_minor": 2
}
