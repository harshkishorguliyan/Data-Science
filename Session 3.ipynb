{
 "cells": [
  {
   "cell_type": "code",
   "execution_count": 3,
   "metadata": {},
   "outputs": [
    {
     "data": {
      "text/plain": [
       "100"
      ]
     },
     "execution_count": 3,
     "metadata": {},
     "output_type": "execute_result"
    }
   ],
   "source": [
    "'''Write a python program to implement your own myreduce() function working exactly like as Python's built-in function reduce'''\n",
    "def myreduce(func, sequ):\n",
    "    tally = sequ[0]\n",
    "    for next in sequ[1:]:\n",
    "        tally = func(tally, next)\n",
    "    return tally\n",
    "\n",
    "myreduce( (lambda x, y: x + y), [10, 20, 30, 40])"
   ]
  },
  {
   "cell_type": "code",
   "execution_count": 4,
   "metadata": {},
   "outputs": [
    {
     "data": {
      "text/plain": [
       "[True, False, True, False, True, False, True]"
      ]
     },
     "execution_count": 4,
     "metadata": {},
     "output_type": "execute_result"
    }
   ],
   "source": [
    "'''Write a python program to implement your own myfilter() function working exactly like as Python's built-in function filter'''\n",
    "def even(a):\n",
    "    if not a % 2:\n",
    "        return True\n",
    "    return False\n",
    "\n",
    "def myFilter(F, L):\n",
    "    if not L:\n",
    "        return []\n",
    "    return [F(L[0])] + myFilter(F, L[1:])\n",
    "\n",
    "myFilter(even, [0, 1, 2, 3, 4, 5, 6])"
   ]
  },
  {
   "cell_type": "code",
   "execution_count": 6,
   "metadata": {},
   "outputs": [
    {
     "name": "stdout",
     "output_type": "stream",
     "text": [
      "['A', 'C', 'A', 'D', 'G', 'I', 'L', 'D']\n",
      "['x', 'xx', 'xxx', 'xxxx', 'y', 'yy', 'yyy', 'yyyy', 'z', 'zz', 'zzz', 'zzzz']\n",
      "['x', 'y', 'z', 'xx', 'yy', 'zz', 'xxxx', 'yyyy', 'zzzz']\n",
      "[[2], [3], [4], [3], [4], [5], [4], [5], [6]]\n",
      "[[2, 3, 4, 5], [3, 4, 5, 6], [4, 5, 6, 7], [5, 6, 7, 8]]\n",
      "[(1, 1), (2, 1), (3, 1), (1, 2), (2, 2), (3, 2), (1, 3), (2, 3), (3, 3)]\n"
     ]
    }
   ],
   "source": [
    "'''Implement List comprehensions to produce the following lists.\n",
    "Write List comprehensions to produce the following Lists\n",
    "['A', 'C', 'A', 'D', 'G', 'I', ’L’, ‘ D’]\n",
    "['x', 'xx', 'xxx', 'xxxx', 'y', 'yy', 'yyy', 'yyyy', 'z', 'zz', 'zzz', 'zzzz']\n",
    "['x', 'y', 'z', 'xx', 'yy', 'zz', 'xxxx', 'yyyy', 'zzzz']\n",
    "[[2], [3], [4], [3], [4], [5], [4], [5], [6]]\n",
    "[[2, 3, 4, 5], [3, 4, 5, 6], [4, 5, 6, 7], [5, 6, 7, 8]]\n",
    "[(1, 1), (2, 1), (3, 1), (1, 2), (2, 2), (3, 2), (1, 3), (2, 3), (3, 3)]'''\n",
    "\n",
    "print([item for item in \"ACADGILD\"])\n",
    "\n",
    "print(['xyz'[j]*i for j in range(len('xyz')) for i in range(1,5)])\n",
    "\n",
    "print(['xyz'[j]*i for i in range(1,5) for j in range(len('xyz')) if i % 3 != 0])\n",
    "\n",
    "print([[j,] for i in range(2,5) for j in range(i,i+3)])\n",
    "\n",
    "print([[j for j in range(i,i+4)] for i in range(2,6)])\n",
    "\n",
    "print([(j,i) for i in range(1,4) for j in range(1,4)])"
   ]
  },
  {
   "cell_type": "code",
   "execution_count": 9,
   "metadata": {},
   "outputs": [
    {
     "name": "stdout",
     "output_type": "stream",
     "text": [
      "Data_Science\n"
     ]
    }
   ],
   "source": [
    "'''Implement a function longestWord() that takes a list of words and returns the longest one'''\n",
    "\n",
    "def longestWord(wordslist):\n",
    "    wordlen = []\n",
    "    for x in wordslist:\n",
    "        wordlen.append((len(x), x))\n",
    "    wordlen.sort()\n",
    "    return wordlen[-1][1]\n",
    "\n",
    "print(longestWord([\"Python\", \"Data_Science\", \"Anaconda\"]))"
   ]
  }
 ],
 "metadata": {
  "kernelspec": {
   "display_name": "Python 3",
   "language": "python",
   "name": "python3"
  },
  "language_info": {
   "codemirror_mode": {
    "name": "ipython",
    "version": 3
   },
   "file_extension": ".py",
   "mimetype": "text/x-python",
   "name": "python",
   "nbconvert_exporter": "python",
   "pygments_lexer": "ipython3",
   "version": "3.6.5"
  }
 },
 "nbformat": 4,
 "nbformat_minor": 2
}
