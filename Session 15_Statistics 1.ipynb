{
 "cells": [
  {
   "cell_type": "code",
   "execution_count": 1,
   "metadata": {},
   "outputs": [
    {
     "name": "stdout",
     "output_type": "stream",
     "text": [
      "Standard deviation for House Hold Rent is :\n"
     ]
    },
    {
     "data": {
      "text/plain": [
       "367.99"
      ]
     },
     "execution_count": 1,
     "metadata": {},
     "output_type": "execute_result"
    }
   ],
   "source": [
    "'''\n",
    "Problem 1. You survey households in your area to find the average rent they are paying. Find the standard deviation from\n",
    "the following data: $1550, $1700, $900, $850, $1000, $950.\n",
    "'''\n",
    "# import Statistics module\n",
    "import statistics as stat \n",
    "\n",
    "# input Data\n",
    "rent_list =[1550, 1700, 900, 850, 1000, 950]\n",
    "\n",
    "rent_stdev= stat.stdev(rent_list) # call stdev function from statistics module\n",
    "\n",
    "print(\"Standard deviation for House Hold Rent is :\")\n",
    "round(rent_stdev,2) # print values till 2 points after decimal"
   ]
  },
  {
   "cell_type": "code",
   "execution_count": 2,
   "metadata": {},
   "outputs": [
    {
     "name": "stdout",
     "output_type": "stream",
     "text": [
      "Variance  for trees in California is :\n"
     ]
    },
    {
     "data": {
      "text/plain": [
       "6219.9"
      ]
     },
     "execution_count": 2,
     "metadata": {},
     "output_type": "execute_result"
    }
   ],
   "source": [
    "'''\n",
    "Problem 2. Find the variance for the following set of data representing trees in California (heights in feet):\n",
    "3, 21, 98, 203, 17, 9\n",
    "'''\n",
    "# import Statistics module\n",
    "import statistics as stat \n",
    "\n",
    "# input Data\n",
    "trees_list =[3, 21, 98, 203, 17, 9]\n",
    "\n",
    "trees_varinace= stat.variance(trees_list) # call variance function from statistics module\n",
    "\n",
    "print(\"Variance  for trees in California is :\")\n",
    "round(trees_varinace,2) # print values till 2 points after decimal"
   ]
  },
  {
   "cell_type": "code",
   "execution_count": 13,
   "metadata": {},
   "outputs": [
    {
     "name": "stdout",
     "output_type": "stream",
     "text": [
      "\n",
      "probability distribution of the variable for ZERO subjects a student from the given class has failed in is (P(X=0)): 0.8\n",
      "----------\n",
      "probability distribution of the variable for ONE subject a student from the given class has failed in is (P(X=1)): 0.1\n",
      "----------\n",
      "probability distribution of the variable for TWO subjects a student from the given class has failed in is (P(X=2)): 0.07\n",
      "----------\n",
      "probability distribution of the variable for THREE subjects a student from the given class has failed in is (P(X=3)): 0.03\n",
      "----------------------------------------------------------------------------------------------------\n"
     ]
    }
   ],
   "source": [
    "'''\n",
    "Problem 3. In a class on 100 students, 80 students passed in all subjects, 10 failed in one subject, 7 failed in two subjects\n",
    "and 3 failed in three subjects. Find the probability distribution of the variable for number of subjects a student from the\n",
    "given class has failed in.\n",
    "'''\n",
    "total=100\n",
    "pass_all=80\n",
    "fail_one=10\n",
    "fail_two=7\n",
    "fail_three=3\n",
    "print(\"\\nprobability distribution of the variable for ZERO subjects a student from the given class has failed in is (P(X=0)):\",\n",
    "pass_all/total)\n",
    "print(\"-\"*10)\n",
    "print(\"probability distribution of the variable for ONE subject a student from the given class has failed in is (P(X=1)):\",\n",
    "fail_one/total)\n",
    "print(\"-\"*10)\n",
    "print(\"probability distribution of the variable for TWO subjects a student from the given class has failed in is (P(X=2)):\",\n",
    "fail_two/total)\n",
    "print(\"-\"*10)\n",
    "print(\"probability distribution of the variable for THREE subjects a student from the given class has failed in is (P(X=3)):\",\n",
    "fail_three/total)\n",
    "print(\"-\"*100)"
   ]
  }
 ],
 "metadata": {
  "kernelspec": {
   "display_name": "Python 3",
   "language": "python",
   "name": "python3"
  },
  "language_info": {
   "codemirror_mode": {
    "name": "ipython",
    "version": 3
   },
   "file_extension": ".py",
   "mimetype": "text/x-python",
   "name": "python",
   "nbconvert_exporter": "python",
   "pygments_lexer": "ipython3",
   "version": "3.6.6"
  }
 },
 "nbformat": 4,
 "nbformat_minor": 2
}
