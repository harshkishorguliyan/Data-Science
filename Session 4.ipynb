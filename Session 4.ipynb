{
 "cells": [
  {
   "cell_type": "code",
   "execution_count": 40,
   "metadata": {},
   "outputs": [
    {
     "name": "stdout",
     "output_type": "stream",
     "text": [
      "Please Enter the First side of a Triangle: 20\n",
      "Please Enter the Second side of a Triangle: 24\n",
      "Please Enter the Third side of a Triangle: 16\n",
      "area of the triangle is =  158.74507866387543\n"
     ]
    }
   ],
   "source": [
    "'''Write a Python Program(with class concepts) to find the area of the triangle using the below formula.\n",
    "area = (s*(s-a)*(s-b)*(s-c)) ** 0.5\n",
    "Function to take the length of the sides of triangle from user should be defined in the parent class and function to\n",
    "calculate the area should be defined in subclass'''\n",
    "\n",
    "class Triangle:\n",
    "    def __init__(self, a,b,c):\n",
    "        self.a = float(input('Please Enter the First side of a Triangle: '))\n",
    "        self.b = float(input('Please Enter the Second side of a Triangle: '))\n",
    "        self.c = float(input('Please Enter the Third side of a Triangle: '))\n",
    "                    \n",
    "class TriArea(Triangle):\n",
    "    def __init__(self):\n",
    "        Triangle.__init__(self,a,b,c)\n",
    "\n",
    "    def findArea(self):\n",
    "        a = self.a\n",
    "        b= self.b\n",
    "        c = self.c\n",
    "        s = (a + b + c) / 2\n",
    "        area = (s*(s-a)*(s-b)*(s-c)) ** 0.5\n",
    "        print('area of the triangle is = ', area)\n",
    "\n",
    "t = TriArea()\n",
    "t.findArea()"
   ]
  },
  {
   "cell_type": "code",
   "execution_count": 41,
   "metadata": {},
   "outputs": [
    {
     "name": "stdout",
     "output_type": "stream",
     "text": [
      "['Bharat', 'mata', 'jai', 'hind']\n"
     ]
    }
   ],
   "source": [
    "'''Write a function filter_long_words() that takes a list of words and an integer n and returns\n",
    "the list of words that are longer than n'''\n",
    "\n",
    "def filter_long_words(list_of_words, num):\n",
    "  return [w for w in list_of_words if len(w) > num]\n",
    "\n",
    "print(filter_long_words(['Bharat','mata','ki','jai','hind','!'] , 2))"
   ]
  },
  {
   "cell_type": "code",
   "execution_count": 42,
   "metadata": {},
   "outputs": [
    {
     "name": "stdout",
     "output_type": "stream",
     "text": [
      "[3, 3, 3, 9, 3, 3, 6, 6, 7]\n"
     ]
    }
   ],
   "source": [
    "'''Write a Python program using function concept that maps list of words into a list of integers\n",
    "representing the lengths of the corresponding words.\n",
    "Hint: ​If a list [ ab,cde,erty] is passed on to the python function output should come as [2,3,4]'''\n",
    "\n",
    "lst_of_words = [\"jan\",\"gan\",\"man\",\"adhinayak\",\"jai\",\"hai\",\"bharat\",\"bhagya\",\"vidhata\"]\n",
    "def length(l):\n",
    "    return l\n",
    "result = (map(lambda l: len(l),lst_of_words))\n",
    "print(list(result))"
   ]
  },
  {
   "cell_type": "code",
   "execution_count": 43,
   "metadata": {},
   "outputs": [
    {
     "name": "stdout",
     "output_type": "stream",
     "text": [
      "\n",
      "Enter a letter to tell you if it is a vowel or not:\n",
      "l\n",
      "False, it is not a vowel\n"
     ]
    }
   ],
   "source": [
    "'''Write a Python function which takes a character (i.e. a string of length 1) and returns True if\n",
    "it is a vowel, False otherwise.'''\n",
    "\n",
    "def vowel_or_not():\n",
    "\n",
    "    print ('\\nEnter a letter to tell you if it is a vowel or not:')\n",
    "    \n",
    "    vowel = input()\n",
    "    if (vowel == 'a' or vowel == 'e'or vowel == 'i'or vowel == 'o' or vowel == 'u'):\n",
    "        print ('True, it is a vowel')\n",
    "    else:\n",
    "        print ('False, it is not a vowel')\n",
    "\n",
    "vowel_or_not()"
   ]
  }
 ],
 "metadata": {
  "kernelspec": {
   "display_name": "Python 3",
   "language": "python",
   "name": "python3"
  },
  "language_info": {
   "codemirror_mode": {
    "name": "ipython",
    "version": 3
   },
   "file_extension": ".py",
   "mimetype": "text/x-python",
   "name": "python",
   "nbconvert_exporter": "python",
   "pygments_lexer": "ipython3",
   "version": "3.6.5"
  }
 },
 "nbformat": 4,
 "nbformat_minor": 2
}
