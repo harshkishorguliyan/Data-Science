{
 "cells": [
  {
   "cell_type": "code",
   "execution_count": 3,
   "metadata": {},
   "outputs": [
    {
     "name": "stdout",
     "output_type": "stream",
     "text": [
      "Probability of exactly 5 questions wrong using Mathematical Approach. \n",
      " \n",
      "0.000003426\n",
      "\n",
      "\n",
      "Probability of exactly 5 questions wrong using Statistical Approach. \n",
      " \n",
      "0.000003426\n"
     ]
    }
   ],
   "source": [
    "'''\n",
    "Problem 1 . A test is conducted which is consisting of 20 MCQs (multiple choices questions) with every MCQ having its four\n",
    "options out of which only one is correct. Determine the probability that a person undertaking that test has answered exactly\n",
    "5 questions wrong.\n",
    "'''\n",
    "\n",
    "'''\n",
    "Binomial Distribution formula for probabiloty P (‘k’ successes in ‘N trials) is :\n",
    "\n",
    "C(N, k)* P^k* (Q)^(N-k)\n",
    "\n",
    "Where :\n",
    "\n",
    "P = Probability of success\n",
    "Q = Probability of failure , which is equivalent to : ( 1- P )\n",
    "N = is representing the number of trials attempted\n",
    "k = is the count of successes that is to be attained in those ‘N’ trials\n",
    "N- k = is the count of failures that is to be attained in those ‘N’ trials\n",
    "C(N, k)= coefficient for binomial distribution , which is equivalent to : [ factorial (N) /(factorial (N-k)*(factorial (k)) ]\n",
    "\n",
    "N= 20 #Total No. of questions to be attempt\n",
    "\n",
    "N-k= 5 #Given in problem , No. of questions to be wrong\n",
    "\n",
    "k= 20-5= 15 #No. of questions to be right, apart from wrong questions\n",
    "\n",
    "P = 1/4 =0.25 #Probability of question to be right\n",
    "\n",
    "Q = 3/4 =0.75 #Probability of question to be wrong\n",
    "'''\n",
    "# Using Mathematical Approach :\n",
    "\n",
    "# Binomial Distribution formula  : C(N, k)*P^k*(Q)^(N-k)\n",
    "\n",
    "# import math module for mathemetical functions\n",
    "\n",
    "import math\n",
    "# Probability of exactly 5 out of 20 questions wrong.\n",
    "\n",
    "# math.factorial(X)  = Return x factorial\n",
    "# math.pow(x, y)  = Return x raised to the power y.\n",
    "\n",
    "probability_wrong_questions =(math.factorial(20)/(math.factorial(20-5)*(math.factorial(5)))) * math.pow((1/4),15) * math.pow((3/4),5)\n",
    "\n",
    "print(\"Probability of exactly 5 questions wrong using Mathematical Approach. \\n \")\n",
    "# format function to convert value into float value till 9 decimal points\n",
    "print(\"{:.9f}\".format(float(probability_wrong_questions)))\n",
    "\n",
    "# Using Statistical Approach \n",
    "\n",
    "from scipy.stats import binom   # import \" binom \" module from scipy.stats\n",
    "\n",
    "k= 15  # Total no. of right questions\n",
    "N= 20  # Total No. of questions to be attemmpted\n",
    "P= 0.25 # Probability of right question 1/4\n",
    "\n",
    "probability_wrong_ques = binom.pmf(k,N,P)   # binom.pmf(k,N,P) is probability mass function\n",
    "\n",
    "print(\"\\n\\nProbability of exactly 5 questions wrong using Statistical Approach. \\n \")\n",
    "# format function to convert value into float value till 9 decimal points\n",
    "print(\"{:.9f}\".format(float(probability_wrong_ques)))"
   ]
  },
  {
   "cell_type": "code",
   "execution_count": 4,
   "metadata": {},
   "outputs": [
    {
     "name": "stdout",
     "output_type": "stream",
     "text": [
      "Probability of getting a D exactly 5 times using Mathematical Approach. \n",
      " \n",
      "0.029531\n",
      "\n",
      "\n",
      "Probability of getting a D exactly 5 times using Statistical Approach. \n",
      " \n",
      "0.029531\n"
     ]
    }
   ],
   "source": [
    "'''\n",
    "Problem 2. A die marked A to E is rolled 50 times. Find the probability of getting a “D” exactly 5 times.\n",
    "'''\n",
    "\n",
    "'''\n",
    "Total Alphabets marked on die : (A, B , C , D , E) -> n= 5\n",
    "\n",
    "Total No of Trials ( No. Of times die rolled ) N = 50\n",
    "\n",
    "No. of trails for a likely event (getting \"D\") k =5\n",
    "\n",
    "Probability of getting D , while rolling the die -> P = 1/5 =0.20\n",
    "\n",
    "Probability of not getting the D w, while roling the die -> Q= 4/5=0.80\n",
    "'''\n",
    "# Using Mathematical Approach :\n",
    "\n",
    "# import math module for mathemetical functions\n",
    "\n",
    "import math\n",
    "\n",
    "# math.factorial(X)  = Return x factorial\n",
    "# math.pow(x, y)  = Return x raised to the power y.\n",
    "\n",
    "probability_Getting_D =(math.factorial(50)/(math.factorial(45)*(math.factorial(5)))) * math.pow((1/5),5) * math.pow((4/5),45)\n",
    "\n",
    "print(\"Probability of getting a \"'D'\" exactly 5 times using Mathematical Approach. \\n \")\n",
    "# format function to convert value into float value till 9 decimal points\n",
    "print(\"{:.6f}\".format(float(probability_Getting_D)))\n",
    "\n",
    "# Using Statistical Approach \n",
    "\n",
    "from scipy.stats import binom   # import \" binom \" module from scipy.stats\n",
    "\n",
    "k= 5  # Total no. of times for getting \"D \" \n",
    "N= 50  # Total No. of times , die rolled \n",
    "P= 0.20 # Probability of getting D = 1/5\n",
    "\n",
    "probability_getting_D = binom.pmf(k,N,P)   # binom.pmf(k,N,P) is probability mass function\n",
    "\n",
    "print(\"\\n\\nProbability of getting a \"'D'\" exactly 5 times using Statistical Approach. \\n \")\n",
    "# format function to convert value into float value till 9 decimal points  \n",
    "print(\"{:.6f}\".format(float(probability_Getting_D)))"
   ]
  },
  {
   "cell_type": "code",
   "execution_count": 5,
   "metadata": {},
   "outputs": [
    {
     "name": "stdout",
     "output_type": "stream",
     "text": [
      "\n",
      "Probability for getting Two black ball or Zero Red ball P(X=0) 0.3333333333333333\n",
      "\n",
      "Probability for getting One black ball or One Red ball P(X=1) 0.5333333333333333\n",
      "\n",
      "Probability for getting Two Red ball P(X=2) 0.13333333333333333\n",
      "\n",
      "Sum Of Possibilities P(X=0)+P(X=1)+P(X=2)  1.0\n"
     ]
    }
   ],
   "source": [
    "'''\n",
    "Problem 3. Two balls are drawn at random in succession without replacement from an urn containing 4 red balls and 6 black balls.\n",
    "Find the probabilities of all the possible outcomes.\n",
    "'''\n",
    "X_0=(6/10)*(5/9)\n",
    "X_1=(4/10)*(6/9)+(6/9)*(4/10)\n",
    "X_2=(4/10)*(3/9)\n",
    "print(\"\\nProbability for getting Two black ball or Zero Red ball P(X=0)\",X_0)\n",
    "print(\"\\nProbability for getting One black ball or One Red ball P(X=1)\",X_1)\n",
    "print(\"\\nProbability for getting Two Red ball P(X=2)\",X_2)\n",
    "print(\"\\nSum Of Possibilities P(X=0)+P(X=1)+P(X=2) \",X_0+X_1+X_2)"
   ]
  }
 ],
 "metadata": {
  "kernelspec": {
   "display_name": "Python 3",
   "language": "python",
   "name": "python3"
  },
  "language_info": {
   "codemirror_mode": {
    "name": "ipython",
    "version": 3
   },
   "file_extension": ".py",
   "mimetype": "text/x-python",
   "name": "python",
   "nbconvert_exporter": "python",
   "pygments_lexer": "ipython3",
   "version": "3.6.6"
  }
 },
 "nbformat": 4,
 "nbformat_minor": 2
}
